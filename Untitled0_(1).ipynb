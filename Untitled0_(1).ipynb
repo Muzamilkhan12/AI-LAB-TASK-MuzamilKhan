{
  "nbformat": 4,
  "nbformat_minor": 0,
  "metadata": {
    "colab": {
      "provenance": []
    },
    "kernelspec": {
      "name": "python3",
      "display_name": "Python 3"
    },
    "language_info": {
      "name": "python"
    }
  },
  "cells": [
    {
      "cell_type": "markdown",
      "source": [
        "#TAsk 1.\tAccess List Items:\n",
        "•\tCreate a list of fruits.\n",
        "\n",
        "•\tPrint the first and last items of the list."
      ],
      "metadata": {
        "id": "WNozRGzp2MQK"
      }
    },
    {
      "cell_type": "code",
      "execution_count": null,
      "metadata": {
        "colab": {
          "base_uri": "https://localhost:8080/"
        },
        "id": "42Qf5n6-1RCS",
        "outputId": "852bfb60-2e9b-48d0-c251-6f25545f551b"
      },
      "outputs": [
        {
          "output_type": "stream",
          "name": "stdout",
          "text": [
            "First item: Apple\n",
            "Last item: Kiwi\n"
          ]
        }
      ],
      "source": [
        "fruits = [\"Apple\", \"Banana\", \"Orange\", \"Grape\", \"Kiwi\"]\n",
        "print(\"First item:\", fruits[0])\n",
        "print(\"Last item:\", fruits[-1])\n",
        "\n"
      ]
    },
    {
      "cell_type": "markdown",
      "source": [
        "#Task 2.\tChange List Items:\n",
        "\n",
        "•\tCreate a list of colors.\n",
        "\n",
        "•\tChange the second item in the list to \"blue\".\n"
      ],
      "metadata": {
        "id": "BxtVmxSD2gfP"
      }
    },
    {
      "cell_type": "code",
      "source": [
        "colors = [\"Red\", \"Green\", \"Yellow\", \"Purple\"]\n",
        "colors[1] = \"Blue\"\n",
        "print(\"Updated colors:\", colors)\n"
      ],
      "metadata": {
        "colab": {
          "base_uri": "https://localhost:8080/"
        },
        "id": "LcM2Q8LC27Fv",
        "outputId": "4c1480e1-b286-4e0e-e8d5-3b5895bb70f7"
      },
      "execution_count": null,
      "outputs": [
        {
          "output_type": "stream",
          "name": "stdout",
          "text": [
            "Updated colors: ['Red', 'Blue', 'Yellow', 'Purple']\n"
          ]
        }
      ]
    },
    {
      "cell_type": "markdown",
      "source": [
        "#Task 3.\tAdd List Items:\n",
        "•\tCreate a list of numbers.\n",
        "\n",
        "•\tAdd the number 10 at the end of the list.\n"
      ],
      "metadata": {
        "id": "e_szA_t73RLO"
      }
    },
    {
      "cell_type": "code",
      "source": [
        "numbers = [1, 2, 3, 4, 5]\n",
        "numbers.append(10)\n",
        "print(\"Updated numbers:\", numbers)\n",
        "\n"
      ],
      "metadata": {
        "colab": {
          "base_uri": "https://localhost:8080/"
        },
        "id": "hjYfx1v73WmQ",
        "outputId": "bdd362fd-153f-4ca1-a82b-d27c0242cb3f"
      },
      "execution_count": null,
      "outputs": [
        {
          "output_type": "stream",
          "name": "stdout",
          "text": [
            "Updated numbers: [1, 2, 3, 4, 5, 10]\n"
          ]
        }
      ]
    },
    {
      "cell_type": "markdown",
      "source": [
        "#Task 4.\tRemove List Items:\n",
        "•\tCreate a list of animals.\n",
        "\n",
        "•\tRemove the third item from the list.\n"
      ],
      "metadata": {
        "id": "bG18ZhCh3up5"
      }
    },
    {
      "cell_type": "code",
      "source": [
        "animals = [\"Dog\", \"Cat\", \"Lion\", \"Elephant\"]\n",
        "del animals[2]\n",
        "print(\"Updated animals:\", animals)\n"
      ],
      "metadata": {
        "colab": {
          "base_uri": "https://localhost:8080/"
        },
        "id": "rXPv1kPd32L0",
        "outputId": "12e16277-53c9-4f2d-84aa-6b3fb8261ea0"
      },
      "execution_count": null,
      "outputs": [
        {
          "output_type": "stream",
          "name": "stdout",
          "text": [
            "Updated animals: ['Dog', 'Cat', 'Elephant']\n"
          ]
        }
      ]
    },
    {
      "cell_type": "markdown",
      "source": [
        "#TAsk 5.\tLoop Lists:\n",
        "•\tCreate a list of cities.\n",
        "\n",
        "•\tLoop through the list and print each city.\n"
      ],
      "metadata": {
        "id": "HzucDdP94KYK"
      }
    },
    {
      "cell_type": "code",
      "source": [
        "cities = [\"New York\", \"London\", \"Paris\", \"Tokyo\"]\n",
        "for city in cities:\n",
        "    print(city)\n"
      ],
      "metadata": {
        "colab": {
          "base_uri": "https://localhost:8080/"
        },
        "id": "BJJHXvns4UTQ",
        "outputId": "ae391080-9628-4f1e-9cdb-93fce5b3f2c6"
      },
      "execution_count": null,
      "outputs": [
        {
          "output_type": "stream",
          "name": "stdout",
          "text": [
            "New York\n",
            "London\n",
            "Paris\n",
            "Tokyo\n"
          ]
        }
      ]
    },
    {
      "cell_type": "markdown",
      "source": [
        "#Task 6.\tList Comprehension:\n",
        "•\tCreate a list of numbers from 1 to 10.\n",
        "\n",
        "•\tUse list comprehension to create a new list containing the square of each number.\n",
        "\n"
      ],
      "metadata": {
        "id": "O6wVfTKi4eGx"
      }
    },
    {
      "cell_type": "code",
      "source": [
        "numbers = [i for i in range(1, 11)]\n",
        "squares = [num ** 2 for num in numbers]\n",
        "print(\"Squared numbers:\", squares)\n"
      ],
      "metadata": {
        "colab": {
          "base_uri": "https://localhost:8080/"
        },
        "id": "AlJNpIIb4w9q",
        "outputId": "911cad1a-aac2-496c-d435-ed5712b9434b"
      },
      "execution_count": null,
      "outputs": [
        {
          "output_type": "stream",
          "name": "stdout",
          "text": [
            "Squared numbers: [1, 4, 9, 16, 25, 36, 49, 64, 81, 100]\n"
          ]
        }
      ]
    },
    {
      "cell_type": "markdown",
      "source": [
        "#TAsk 7.\tSort Lists:\n",
        "•\tCreate a list of names.\n",
        "\n",
        "•\tSort the list alphabetically.\n"
      ],
      "metadata": {
        "id": "2jZ1dxSY5BFP"
      }
    },
    {
      "cell_type": "code",
      "source": [
        "names = [\"Talha\", \"Ali\", \"Muzammil\", \"Rafay\"]\n",
        "names.sort()\n",
        "print(\"Sorted names:\", names)\n"
      ],
      "metadata": {
        "colab": {
          "base_uri": "https://localhost:8080/"
        },
        "id": "3O5kft-X5GRu",
        "outputId": "3ddf23e0-b9ef-4f45-9136-432dfcb605f3"
      },
      "execution_count": null,
      "outputs": [
        {
          "output_type": "stream",
          "name": "stdout",
          "text": [
            "Sorted names: ['Ali', 'Muzammil', 'Rafay', 'Talha']\n"
          ]
        }
      ]
    },
    {
      "cell_type": "markdown",
      "source": [
        "#Task 8.\tCopy Lists:\n",
        "•\tCreate a list of fruits.\n",
        "\n",
        "•\tCopy the list into a new list.\n"
      ],
      "metadata": {
        "id": "LO1swaT05WF_"
      }
    },
    {
      "cell_type": "code",
      "source": [
        "fruits = [\"Apple\", \"Banana\", \"Orange\"]\n",
        "fruits_copy = fruits.copy()\n",
        "print(\"Copied list:\", fruits_copy)\n",
        "print(\"Original list:\",fruits)"
      ],
      "metadata": {
        "colab": {
          "base_uri": "https://localhost:8080/"
        },
        "id": "nOciH0au5kKa",
        "outputId": "0627ec94-7b92-413a-9070-47a9fe2f09c3"
      },
      "execution_count": null,
      "outputs": [
        {
          "output_type": "stream",
          "name": "stdout",
          "text": [
            "Copied list: ['Apple', 'Banana', 'Orange']\n",
            "Original list: ['Apple', 'Banana', 'Orange']\n"
          ]
        }
      ]
    },
    {
      "cell_type": "markdown",
      "source": [
        "#Task 9.\tJoin Lists:\n",
        "•\tCreate two lists of numbers.\n",
        "\n",
        "•\tJoin the two lists into a single list.\n"
      ],
      "metadata": {
        "id": "f4ZtRyEd55lf"
      }
    },
    {
      "cell_type": "code",
      "source": [
        "list1 = [1, 2, 3]\n",
        "list2 = [4, 5, 6]\n",
        "combined_list = list1 + list2\n",
        "print(\"Combined list:\", combined_list)\n"
      ],
      "metadata": {
        "colab": {
          "base_uri": "https://localhost:8080/"
        },
        "id": "4wHgOpEE6AHC",
        "outputId": "9783ccfa-810b-4714-85ae-70c6a3ac058a"
      },
      "execution_count": null,
      "outputs": [
        {
          "output_type": "stream",
          "name": "stdout",
          "text": [
            "Combined list: [1, 2, 3, 4, 5, 6]\n"
          ]
        }
      ]
    },
    {
      "cell_type": "markdown",
      "source": [
        "# Task 10.\tList Methods:\n",
        "•\tCreate a list of fruits.\n",
        "\n",
        "•\tUse the append() method to add a new fruit to the list.\n",
        "\n",
        "•\tUse the pop() method to remove the last fruit from the list.\n"
      ],
      "metadata": {
        "id": "vskBFrXO6Hfe"
      }
    },
    {
      "cell_type": "code",
      "source": [
        "fruits = [\"Apple\", \"Banana\", \"Orange\"]\n",
        "fruits.append(\"Grape\")\n",
        "print(\"Updated fruits:\", fruits)\n",
        "fruits.pop()\n",
        "print(\"After popping:\", fruits)\n",
        "\n"
      ],
      "metadata": {
        "colab": {
          "base_uri": "https://localhost:8080/"
        },
        "id": "opKC6FYv6S49",
        "outputId": "3c2b6d34-0bd2-4ba0-aa9b-d1a97598bce9"
      },
      "execution_count": null,
      "outputs": [
        {
          "output_type": "stream",
          "name": "stdout",
          "text": [
            "Updated fruits: ['Apple', 'Banana', 'Orange', 'Grape']\n",
            "After popping: ['Apple', 'Banana', 'Orange']\n"
          ]
        }
      ]
    },
    {
      "cell_type": "markdown",
      "source": [
        "# TAsk 11.\tCombining Lists and List Comprehension:\n",
        "\n",
        "•\tCreate two lists, one containing numbers from 1 to 5 and another containing numbers from 6 to 10.\n",
        "\n",
        "•\tUse list comprehension to create a new list that contains the sum of corresponding elements from the two lists.\n"
      ],
      "metadata": {
        "id": "VEjZPc6G6rnz"
      }
    },
    {
      "cell_type": "markdown",
      "source": [],
      "metadata": {
        "id": "kP15PtK95hc5"
      }
    },
    {
      "cell_type": "code",
      "source": [
        "list1 = [1, 2, 3, 4, 5]\n",
        "list2 = [6, 7, 8, 9, 10]\n",
        "sum_list = [x + y for x, y in zip(list1, list2)]\n",
        "print(\"Sum list:\", sum_list)"
      ],
      "metadata": {
        "colab": {
          "base_uri": "https://localhost:8080/"
        },
        "id": "6-n3V5QX7nOL",
        "outputId": "b0162f44-71c1-474b-9019-afb29450de5a"
      },
      "execution_count": 1,
      "outputs": [
        {
          "output_type": "stream",
          "name": "stdout",
          "text": [
            "Sum list: [7, 9, 11, 13, 15]\n"
          ]
        }
      ]
    },
    {
      "cell_type": "markdown",
      "source": [],
      "metadata": {
        "id": "-Istzrjh2K18"
      }
    },
    {
      "cell_type": "markdown",
      "source": [
        "# TASK 12. Filtering and Sorting\n"
      ],
      "metadata": {
        "id": "KKUbPsvf73im"
      }
    },
    {
      "cell_type": "code",
      "source": [
        "numbers = [3, 6, 2, 8, 5, 9, 4, 7]\n",
        "even_numbers = [num for num in numbers if num % 2 == 0]\n",
        "even_numbers.sort(reverse=True)\n",
        "print(\"Sorted even numbers:\", even_numbers)\n",
        "\n"
      ],
      "metadata": {
        "colab": {
          "base_uri": "https://localhost:8080/"
        },
        "id": "7UZ3u7fq8KK1",
        "outputId": "b3eb3dfe-6ecf-462e-cd1d-cc971adc5465"
      },
      "execution_count": 2,
      "outputs": [
        {
          "output_type": "stream",
          "name": "stdout",
          "text": [
            "Sorted even numbers: [8, 6, 4, 2]\n"
          ]
        }
      ]
    },
    {
      "cell_type": "markdown",
      "source": [
        "# TASK 13 .List Slicing and Reversing\n"
      ],
      "metadata": {
        "id": "PmKeNcW18T_D"
      }
    },
    {
      "cell_type": "code",
      "source": [
        "numbers = list(range(1, 11))\n",
        "even_reverse = numbers[-2::-2]\n",
        "print(\"Even numbers in reverse:\", even_reverse)\n"
      ],
      "metadata": {
        "colab": {
          "base_uri": "https://localhost:8080/"
        },
        "id": "GxRkSHMi8iWh",
        "outputId": "38ba0c89-75b8-48f2-aecd-e23251e51308"
      },
      "execution_count": 3,
      "outputs": [
        {
          "output_type": "stream",
          "name": "stdout",
          "text": [
            "Even numbers in reverse: [9, 7, 5, 3, 1]\n"
          ]
        }
      ]
    },
    {
      "cell_type": "markdown",
      "source": [
        "#TASK 14. Combining Lists and List Methods\n"
      ],
      "metadata": {
        "id": "oZzbTzyp8ycq"
      }
    },
    {
      "cell_type": "code",
      "source": [
        "even_numbers = [2, 4, 6, 8, 10]\n",
        "odd_numbers = [1, 3, 5, 7, 9]\n",
        "combined_list = []\n",
        "for even, odd in zip(even_numbers, odd_numbers):\n",
        "    combined_list.append(even)\n",
        "    combined_list.append(odd)\n",
        "print(\"Combined list:\", combined_list)"
      ],
      "metadata": {
        "colab": {
          "base_uri": "https://localhost:8080/",
          "height": 106
        },
        "id": "uBGTgLvD86HE",
        "outputId": "14e9b31e-30e9-43ce-f81c-1e99e3a65559"
      },
      "execution_count": 4,
      "outputs": [
        {
          "output_type": "error",
          "ename": "SyntaxError",
          "evalue": "invalid non-printable character U+00A0 (<ipython-input-4-de1b05664cd3>, line 7)",
          "traceback": [
            "\u001b[0;36m  File \u001b[0;32m\"<ipython-input-4-de1b05664cd3>\"\u001b[0;36m, line \u001b[0;32m7\u001b[0m\n\u001b[0;31m    print(\"Combined list:\", combined_list)\u001b[0m\n\u001b[0m                           ^\u001b[0m\n\u001b[0;31mSyntaxError\u001b[0m\u001b[0;31m:\u001b[0m invalid non-printable character U+00A0\n"
          ]
        }
      ]
    }
  ]
}